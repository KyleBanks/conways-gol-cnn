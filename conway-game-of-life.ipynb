{
 "cells": [
  {
   "cell_type": "markdown",
   "metadata": {},
   "source": [
    "# Conway's Game of Life\n",
    "\n",
    "The goal of this post is to train a neural network to properly play [Conway's Game of Life](https://en.wikipedia.org/wiki/Conway%27s_Game_of_Life) without explicitly teaching it the rules of the game:\n",
    "\n",
    "    The universe of the Game of Life is an infinite, two-dimensional orthogonal grid of square cells, each of which is in one of two possible states, alive or dead, (or populated and unpopulated, respectively). Every cell interacts with its eight neighbours, which are the cells that are horizontally, vertically, or diagonally adjacent. At each step in time, the following transitions occur:\n",
    "\n",
    "    - Any live cell with fewer than two live neighbors dies, as if by underpopulation.\n",
    "    - Any live cell with two or three live neighbors lives on to the next generation.\n",
    "    - Any live cell with more than three live neighbors dies, as if by overpopulation.\n",
    "    - Any dead cell with exactly three live neighbors becomes a live cell, as if by reproduction.\n",
    "\n",
    "    The initial pattern constitutes the seed of the system. The first generation is created by applying the above rules simultaneously to every cell in the seed; births and deaths occur simultaneously, and the discrete moment at which this happens is sometimes called a tick. Each generation is a pure function of the preceding one. The rules continue to be applied repeatedly to create further generations.\n",
    "    \n",
    "- [Wikipedia, Conway's Game of Life](https://en.wikipedia.org/wiki/Conway%27s_Game_of_Life#Rules)\n",
    "\n",
    "## Game Logic\n",
    "\n",
    "The first thing to do is define a function that takes a game board as input and returns the next state. Luckily there are plenty of implementations available online, such as the following from [ttps://jakevdp.github.io/blog/2013/08/07/conways-game-of-life/](https://jakevdp.github.io/blog/2013/08/07/conways-game-of-life/):"
   ]
  },
  {
   "cell_type": "code",
   "execution_count": 1,
   "metadata": {},
   "outputs": [],
   "source": [
    "import numpy as np\n",
    "\n",
    "def life_step(X):\n",
    "    \"\"\"\n",
    "    'Game of Life' logic, from: \n",
    "    https://jakevdp.github.io/blog/2013/08/07/conways-game-of-life/\n",
    "    \"\"\"\n",
    "    live_neighbors = sum(np.roll(np.roll(X, i, 0), j, 1)\n",
    "                     for i in (-1, 0, 1) for j in (-1, 0, 1)\n",
    "                     if (i != 0 or j != 0))\n",
    "    return (live_neighbors == 3) | (X & (live_neighbors == 2)).astype(int)"
   ]
  },
  {
   "cell_type": "markdown",
   "metadata": {},
   "source": [
    "## Generate Game Boads\n",
    "\n",
    "With the game logic in place, the next thing we'll want is some way to randomly generate game boards (frames) and a way to visualize them:"
   ]
  },
  {
   "cell_type": "code",
   "execution_count": 2,
   "metadata": {},
   "outputs": [],
   "source": [
    "import matplotlib.pyplot as plt\n",
    "%matplotlib inline\n",
    "\n",
    "def generate_frames(num_frames, board_shape=(100,100), prob_alive=0.15):\n",
    "    \"\"\"\n",
    "    Generates `num_frames` random game boards with a particular shape and a predefined \n",
    "    probability of each cell being 'alive'.\n",
    "    \"\"\"\n",
    "    \n",
    "    return np.array([\n",
    "        np.random.choice([False, True], size=board_shape, p=[1-prob_alive, prob_alive])\n",
    "        for _ in range(num_frames)\n",
    "    ]).astype(int)\n",
    "\n",
    "def render_frames(frame1, frame2):\n",
    "    plt.subplot(1, 2, 1)\n",
    "    plt.imshow(frame1.flatten().reshape(board_shape), cmap='gray')\n",
    "\n",
    "    plt.subplot(1, 2, 2)\n",
    "    plt.imshow(frame2.flatten().reshape(board_shape), cmap='gray')"
   ]
  },
  {
   "cell_type": "markdown",
   "metadata": {},
   "source": [
    "Let's see what these frames look like:"
   ]
  },
  {
   "cell_type": "code",
   "execution_count": 3,
   "metadata": {},
   "outputs": [
    {
     "data": {
      "text/plain": [
       "(10, 20, 20)"
      ]
     },
     "execution_count": 3,
     "metadata": {},
     "output_type": "execute_result"
    }
   ],
   "source": [
    "board_shape = (20, 20)\n",
    "board_size = board_shape[0] * board_shape[1]\n",
    "probability_alive = 0.15\n",
    "\n",
    "frames = generate_frames(10, board_shape=board_shape, prob_alive=probability_alive)\n",
    "frames.shape # (num_frames, board_w, board_h)"
   ]
  },
  {
   "cell_type": "code",
   "execution_count": 4,
   "metadata": {},
   "outputs": [
    {
     "data": {
      "text/plain": [
       "array([[0, 0, 0, 0, 0, 1, 0, 0, 0, 0, 0, 0, 0, 0, 0, 0, 0, 0, 1, 0],\n",
       "       [0, 0, 0, 0, 0, 1, 0, 1, 0, 0, 1, 0, 0, 0, 0, 0, 0, 0, 1, 0],\n",
       "       [0, 1, 1, 0, 0, 0, 0, 1, 0, 0, 0, 0, 0, 0, 1, 1, 0, 0, 1, 0],\n",
       "       [0, 0, 0, 1, 0, 0, 0, 0, 0, 0, 0, 0, 0, 0, 0, 0, 0, 0, 0, 0],\n",
       "       [0, 0, 0, 0, 0, 0, 0, 0, 0, 0, 0, 0, 0, 0, 0, 1, 1, 0, 0, 0],\n",
       "       [0, 0, 0, 0, 0, 0, 0, 0, 0, 0, 0, 0, 0, 0, 0, 0, 1, 0, 0, 1],\n",
       "       [0, 0, 0, 0, 0, 0, 1, 0, 0, 0, 0, 0, 1, 0, 0, 0, 0, 0, 0, 0],\n",
       "       [0, 0, 0, 0, 0, 0, 0, 0, 0, 0, 0, 1, 0, 1, 0, 0, 0, 0, 0, 0],\n",
       "       [0, 1, 0, 0, 0, 0, 0, 1, 1, 0, 0, 0, 0, 0, 0, 0, 0, 0, 0, 0],\n",
       "       [0, 0, 0, 1, 0, 0, 0, 0, 0, 0, 0, 0, 0, 0, 0, 0, 0, 0, 0, 0],\n",
       "       [1, 0, 0, 0, 0, 0, 0, 0, 0, 0, 0, 0, 0, 0, 1, 0, 0, 1, 0, 0],\n",
       "       [0, 0, 0, 1, 0, 0, 0, 0, 0, 0, 0, 0, 0, 0, 0, 0, 0, 0, 0, 0],\n",
       "       [0, 0, 0, 1, 0, 0, 0, 0, 0, 0, 0, 0, 0, 0, 0, 0, 0, 1, 0, 0],\n",
       "       [0, 0, 0, 0, 0, 0, 0, 0, 0, 0, 0, 0, 0, 0, 0, 0, 0, 0, 0, 0],\n",
       "       [0, 0, 0, 1, 0, 1, 0, 0, 0, 1, 0, 0, 0, 0, 0, 0, 0, 0, 0, 0],\n",
       "       [0, 0, 0, 0, 0, 0, 0, 1, 0, 0, 0, 0, 0, 0, 0, 1, 0, 0, 0, 0],\n",
       "       [0, 0, 0, 0, 0, 1, 0, 1, 0, 0, 0, 0, 0, 1, 0, 1, 1, 0, 0, 0],\n",
       "       [0, 0, 0, 1, 0, 0, 1, 0, 0, 0, 0, 0, 1, 0, 0, 0, 0, 0, 1, 0],\n",
       "       [0, 0, 0, 1, 0, 0, 1, 0, 0, 0, 1, 0, 0, 1, 0, 0, 0, 0, 0, 0],\n",
       "       [1, 0, 0, 0, 0, 0, 0, 0, 0, 0, 0, 0, 0, 0, 0, 0, 0, 0, 0, 1]])"
      ]
     },
     "execution_count": 4,
     "metadata": {},
     "output_type": "execute_result"
    }
   ],
   "source": [
    "frames[0]"
   ]
  },
  {
   "cell_type": "markdown",
   "metadata": {},
   "source": [
    "The following takes the integer representation of a game board from above, and renders it as an image. To the right it also renders the next state of the game board:"
   ]
  },
  {
   "cell_type": "code",
   "execution_count": 5,
   "metadata": {},
   "outputs": [
    {
     "name": "stdout",
     "output_type": "stream",
     "text": [
      "Sample frame vs. next step:\n"
     ]
    },
    {
     "data": {
      "image/png": "[encoded data removed]",
      "text/plain": [
       "<Figure size 432x288 with 2 Axes>"
      ]
     },
     "metadata": {
      "needs_background": "light"
     },
     "output_type": "display_data"
    }
   ],
   "source": [
    "print(\"Sample frame vs. next step:\")\n",
    "render_frames(frames[1], life_step(frames[1]))"
   ]
  },
  {
   "cell_type": "markdown",
   "metadata": {},
   "source": [
    "## Construct a Training and Validation Set\n",
    "\n",
    "Now that we can generate data, we'll generate training, validation and test sets.\n",
    "\n",
    "Each element in the `y_train`/`y_val`/`y_test` arrays will represent the **next** *Game of Life* board for each board frame in `X_train`/`X_val`/`X_test`."
   ]
  },
  {
   "cell_type": "code",
   "execution_count": 6,
   "metadata": {},
   "outputs": [],
   "source": [
    "def reshape_input(X):\n",
    "    return X.reshape(X.shape[0], X.shape[1], X.shape[2], 1)\n",
    "\n",
    "def generate_dataset(num_frames, board_shape, prob_alive):\n",
    "    X = generate_frames(num_frames, board_shape=board_shape, prob_alive=prob_alive)\n",
    "    X = reshape_input(X)\n",
    "    y = np.array([\n",
    "        life_step(frame) \n",
    "        for frame in X\n",
    "    ])\n",
    "    return X, y\n",
    "\n",
    "train_size = 70000\n",
    "val_size   = 10000\n",
    "test_size  = 20000"
   ]
  },
  {
   "cell_type": "code",
   "execution_count": 7,
   "metadata": {},
   "outputs": [
    {
     "name": "stdout",
     "output_type": "stream",
     "text": [
      "Training Set:\n",
      "(70000, 20, 20, 1)\n",
      "(70000, 20, 20, 1)\n"
     ]
    }
   ],
   "source": [
    "print(\"Training Set:\")\n",
    "X_train, y_train = generate_dataset(train_size, board_shape, probability_alive)\n",
    "print(X_train.shape)\n",
    "print(y_train.shape)"
   ]
  },
  {
   "cell_type": "code",
   "execution_count": 8,
   "metadata": {},
   "outputs": [
    {
     "name": "stdout",
     "output_type": "stream",
     "text": [
      "Validation Set:\n",
      "(10000, 20, 20, 1)\n",
      "(10000, 20, 20, 1)\n"
     ]
    }
   ],
   "source": [
    "print(\"Validation Set:\")\n",
    "X_val, y_val = generate_dataset(val_size, board_shape, probability_alive)\n",
    "print(X_val.shape)\n",
    "print(y_val.shape)"
   ]
  },
  {
   "cell_type": "code",
   "execution_count": 9,
   "metadata": {},
   "outputs": [
    {
     "name": "stdout",
     "output_type": "stream",
     "text": [
      "Test Set:\n",
      "(20000, 20, 20, 1)\n",
      "(20000, 20, 20, 1)\n"
     ]
    }
   ],
   "source": [
    "print(\"Test Set:\")\n",
    "X_test, y_test = generate_dataset(test_size, board_shape, probability_alive)\n",
    "print(X_test.shape)\n",
    "print(y_test.shape)"
   ]
  },
  {
   "cell_type": "markdown",
   "metadata": {},
   "source": [
    "## Build a Convolutional Neural Network\n",
    "\n",
    "Now we can take a first crack at building a *Convolutional Neural Network* using [Keras](https://keras.io/layers/convolutional/). The key here is the `kernel_size` of `(3, 3)` and `strides` of `1`. This instructs the CNN to look at a `3x3` matrix of surrounding cells for each `1` cell of the board it looks at, including the current cell itself.\n",
    "\n",
    "For example, if the following were a game board and we were at the middle cell `x`, it would look at all the cells marked with an exclamation mark `!` and the `x` cell. It would then move along `1` cell to the right, and do the same, repeating over and over until it's looked at every cell, and its neighbors, of the entire board.\n",
    "\n",
    "```\n",
    "0 0 0 0 0\n",
    "0 ! ! ! 0 \n",
    "0 ! x ! 0\n",
    "0 ! ! ! 0 \n",
    "0 0 0 0 0\n",
    "```"
   ]
  },
  {
   "cell_type": "code",
   "execution_count": 10,
   "metadata": {},
   "outputs": [
    {
     "name": "stderr",
     "output_type": "stream",
     "text": [
      "Using TensorFlow backend.\n"
     ]
    },
    {
     "name": "stdout",
     "output_type": "stream",
     "text": [
      "_________________________________________________________________\n",
      "Layer (type)                 Output Shape              Param #   \n",
      "=================================================================\n",
      "conv2d_1 (Conv2D)            (None, 20, 20, 50)        500       \n",
      "_________________________________________________________________\n",
      "dense_1 (Dense)              (None, 20, 20, 100)       5100      \n",
      "_________________________________________________________________\n",
      "dense_2 (Dense)              (None, 20, 20, 1)         101       \n",
      "_________________________________________________________________\n",
      "activation_1 (Activation)    (None, 20, 20, 1)         0         \n",
      "=================================================================\n",
      "Total params: 5,701\n",
      "Trainable params: 5,701\n",
      "Non-trainable params: 0\n",
      "_________________________________________________________________\n"
     ]
    }
   ],
   "source": [
    "from keras.models import Sequential\n",
    "from keras.layers import Dense, Dropout, Activation, Conv2D, MaxPool2D\n",
    "\n",
    "# CNN Properties\n",
    "filters = 50\n",
    "kernel_size = (3, 3) # look at all 8 neighboring cells, plus itself\n",
    "strides = 1\n",
    "hidden_dims_l1 = 100\n",
    "\n",
    "model = Sequential()\n",
    "model.add(Conv2D(\n",
    "    filters, \n",
    "    kernel_size,\n",
    "    padding='same',\n",
    "    activation='relu',\n",
    "    strides=strides,\n",
    "    input_shape=(board_shape[0], board_shape[1], 1)\n",
    "))\n",
    "model.add(Dense(hidden_dims_l1))\n",
    "model.add(Dense(1))\n",
    "model.add(Activation('sigmoid'))\n",
    "\n",
    "model.compile(loss='binary_crossentropy', optimizer='adam', metrics=['accuracy'])\n",
    "model.summary()"
   ]
  },
  {
   "cell_type": "markdown",
   "metadata": {},
   "source": [
    "## Train and Save the Model\n",
    "\n",
    "With the CNN defined, let's train the model and save it to disk:"
   ]
  },
  {
   "cell_type": "code",
   "execution_count": 11,
   "metadata": {},
   "outputs": [],
   "source": [
    "def train(model, X_train, y_train, X_val, y_val, batch_size=50, epochs=2, filename_suffix=''):\n",
    "    model.fit(\n",
    "        X_train, y_train, \n",
    "        batch_size=batch_size, \n",
    "        epochs=epochs,\n",
    "        validation_data=(X_val, y_val)\n",
    "    )\n",
    "    \n",
    "    with open('cgol_cnn{}.json'.format(filename_suffix), 'w') as file:\n",
    "        file.write(model.to_json())\n",
    "    model.save_weights('cgol_cnn{}.h5'.format(filename_suffix))"
   ]
  },
  {
   "cell_type": "code",
   "execution_count": 12,
   "metadata": {},
   "outputs": [
    {
     "name": "stdout",
     "output_type": "stream",
     "text": [
      "Train on 70000 samples, validate on 10000 samples\n",
      "Epoch 1/2\n",
      "70000/70000 [==============================] - 29s 407us/step - loss: 0.1355 - acc: 0.9621 - val_loss: 0.0838 - val_acc: 0.9813\n",
      "Epoch 2/2\n",
      "70000/70000 [==============================] - 29s 409us/step - loss: 0.0823 - acc: 0.9816 - val_loss: 0.0818 - val_acc: 0.9816\n"
     ]
    }
   ],
   "source": [
    "train(model, X_train, y_train, X_val, y_val, filename_suffix='_basic')"
   ]
  },
  {
   "cell_type": "markdown",
   "metadata": {},
   "source": [
    "This model achieves > 98% accuracy on the validation set, which is pretty good for a first pass."
   ]
  },
  {
   "cell_type": "markdown",
   "metadata": {},
   "source": [
    "## Try it Out\n",
    "\n",
    "Let's take a look at a prediction for a random game board and see how it does:"
   ]
  },
  {
   "cell_type": "code",
   "execution_count": 13,
   "metadata": {},
   "outputs": [
    {
     "name": "stdout",
     "output_type": "stream",
     "text": [
      "Frame to Predict vs. Correct Output:\n"
     ]
    },
    {
     "data": {
      "image/png": "[encoded data removed]",
      "text/plain": [
       "<Figure size 432x288 with 2 Axes>"
      ]
     },
     "metadata": {
      "needs_background": "light"
     },
     "output_type": "display_data"
    }
   ],
   "source": [
    "X, y = generate_dataset(1, board_shape=board_shape, prob_alive=probability_alive)\n",
    "\n",
    "print(\"Frame to Predict vs. Correct Output:\")\n",
    "render_frames(X[0].flatten().reshape(board_shape), y)"
   ]
  },
  {
   "cell_type": "code",
   "execution_count": 14,
   "metadata": {},
   "outputs": [
    {
     "name": "stdout",
     "output_type": "stream",
     "text": [
      "5 incorrect cells.\n"
     ]
    }
   ],
   "source": [
    "pred = model.predict_classes(reshape_input(X))\n",
    "print(np.count_nonzero(pred.flatten() - y.flatten()), \"incorrect cells.\")"
   ]
  },
  {
   "cell_type": "code",
   "execution_count": 15,
   "metadata": {},
   "outputs": [
    {
     "name": "stdout",
     "output_type": "stream",
     "text": [
      "Correct Output vs. Predicted:\n"
     ]
    },
    {
     "data": {
      "image/png": "[encoded data removed]",
      "text/plain": [
       "<Figure size 432x288 with 2 Axes>"
      ]
     },
     "metadata": {
      "needs_background": "light"
     },
     "output_type": "display_data"
    }
   ],
   "source": [
    "print(\"Correct Output vs. Predicted:\")\n",
    "render_frames(y, pred.flatten().reshape(board_shape))"
   ]
  },
  {
   "cell_type": "markdown",
   "metadata": {},
   "source": [
    "It's not terrible, but it's pretty clearly failing to predict the edges. Take a look at the following where non-zero values indicate incorrect predictions:"
   ]
  },
  {
   "cell_type": "code",
   "execution_count": 16,
   "metadata": {},
   "outputs": [
    {
     "name": "stdout",
     "output_type": "stream",
     "text": [
      "[[ 0  0  0  0  0 -1  0  0  0  0  0  0  0  0  0  0  0  0  0  0]\n",
      " [-1  0  0  0  0  0  0  0  0  0  0  0  0  0  0  0  0  0  0 -1]\n",
      " [ 0  0  0  0  0  0  0  0  0  0  0  0  0  0  0  0  0  0  0 -1]\n",
      " [ 0  0  0  0  0  0  0  0  0  0  0  0  0  0  0  0  0  0  0  0]\n",
      " [ 0  0  0  0  0  0  0  0  0  0  0  0  0  0  0  0  0  0  0  0]\n",
      " [ 0  0  0  0  0  0  0  0  0  0  0  0  0  0  0  0  0  0  0  0]\n",
      " [ 0  0  0  0  0  0  0  0  0  0  0  0  0  0  0  0  0  0  0  0]\n",
      " [ 0  0  0  0  0  0  0  0  0  0  0  0  0  0  0  0  0  0  0  0]\n",
      " [ 0  0  0  0  0  0  0  0  0  0  0  0  0  0  0  0  0  0  0  0]\n",
      " [ 0  0  0  0  0  0  0  0  0  0  0  0  0  0  0  0  0  0  0  0]\n",
      " [ 0  0  0  0  0  0  0  0  0  0  0  0  0  0  0  0  0  0  0  0]\n",
      " [ 0  0  0  0  0  0  0  0  0  0  0  0  0  0  0  0  0  0  0  0]\n",
      " [ 0  0  0  0  0  0  0  0  0  0  0  0  0  0  0  0  0  0  0  0]\n",
      " [ 0  0  0  0  0  0  0  0  0  0  0  0  0  0  0  0  0  0  0  0]\n",
      " [ 0  0  0  0  0  0  0  0  0  0  0  0  0  0  0  0  0  0  0  0]\n",
      " [ 0  0  0  0  0  0  0  0  0  0  0  0  0  0  0  0  0  0  0  0]\n",
      " [ 0  0  0  0  0  0  0  0  0  0  0  0  0  0  0  0  0  0  0  0]\n",
      " [ 0  0  0  0  0  0  0  0  0  0  0  0  0  0  0  0  0  0  0  0]\n",
      " [ 0  0  0  0  0  0  0  0  0  0  0  0  0  0  0  0  0  0  0  0]\n",
      " [ 0  0  0  0  0 -1  0  0  0  0  0  0  0  0  0  0  0  0  0  0]]\n"
     ]
    }
   ],
   "source": [
    "print(pred.flatten().reshape(board_shape) - y.flatten().reshape(board_shape))"
   ]
  },
  {
   "cell_type": "markdown",
   "metadata": {},
   "source": [
    "All the non-zero values are located in the edges of the game board. Let's take a look at the full testing set:"
   ]
  },
  {
   "cell_type": "markdown",
   "metadata": {},
   "source": [
    "## View Frequent Errors using Test Set"
   ]
  },
  {
   "cell_type": "code",
   "execution_count": 17,
   "metadata": {},
   "outputs": [],
   "source": [
    "def view_test_errors(model, X_test, y_test):\n",
    "    y_test_pred = model.predict_classes(X_test)\n",
    "    sum_y_test_pred = np.sum(y_test_pred, axis=0).flatten().reshape(board_shape)\n",
    "    sum_y_test = np.sum(y_test, axis=0).flatten().reshape(board_shape)\n",
    "\n",
    "    plt.imshow(sum_y_test_pred - sum_y_test, cmap='hot', interpolation='nearest')\n",
    "    plt.show()"
   ]
  },
  {
   "cell_type": "code",
   "execution_count": 18,
   "metadata": {},
   "outputs": [
    {
     "data": {
      "image/png": "[encoded data removed]",
      "text/plain": [
       "<Figure size 432x288 with 1 Axes>"
      ]
     },
     "metadata": {
      "needs_background": "light"
     },
     "output_type": "display_data"
    }
   ],
   "source": [
    "view_test_errors(model, X_test, y_test)"
   ]
  },
  {
   "cell_type": "markdown",
   "metadata": {},
   "source": [
    "All errors are around the edges, and are worst in the corners. This makes sense since the CNN cannot look around the edges, but the *Game of Life* logic in `life_step` does. \n",
    "\n",
    "For example, consider the following. Currently, when looking at the edge cell `x` below, the CNN only sees the `x` and the `!` cells:\n",
    "\n",
    "```\n",
    "0 0 0 0 0\n",
    "! ! 0 0 0 \n",
    "x ! 0 0 0\n",
    "! ! 0 0 0 \n",
    "0 0 0 0 0\n",
    "```\n",
    "\n",
    "But what we really want, and what `life_step` is doing, is to look at the cells on the opposite side as well:\n",
    "\n",
    "```\n",
    "0 0 0 0 0\n",
    "! ! 0 0 ! \n",
    "x ! 0 0 !\n",
    "! ! 0 0 ! \n",
    "0 0 0 0 0\n",
    "```\n",
    "\n",
    "The same logic applies to corner cells, like so:\n",
    "\n",
    "```\n",
    "x ! 0 0 !\n",
    "! ! 0 0 ! \n",
    "0 0 0 0 0\n",
    "0 0 0 0 0\n",
    "! 0 0 0 !\n",
    "```\n",
    "\n",
    "\n",
    "To fix this, the `padding` function of the `Conv2D` needs to somehow look at the opposite side of the game board. Alternatively, each input board could be pre-processed to pad the edges with the opposite side, and then `Conv2D` can simply drop the first/last column and row. "
   ]
  },
  {
   "cell_type": "markdown",
   "metadata": {},
   "source": [
    "## Fixing the Edge Issue\n",
    "\n",
    "We need to pad each game board with the opposite value to simulate how `life_step` looks across the game board for edge values. We can use `np.pad` with `mode='wrap'` to do this, for example:"
   ]
  },
  {
   "cell_type": "code",
   "execution_count": 19,
   "metadata": {},
   "outputs": [
    {
     "data": {
      "text/plain": [
       "array([[9, 7, 8, 9, 7],\n",
       "       [3, 1, 2, 3, 1],\n",
       "       [6, 4, 5, 6, 4],\n",
       "       [9, 7, 8, 9, 7],\n",
       "       [3, 1, 2, 3, 1]])"
      ]
     },
     "execution_count": 19,
     "metadata": {},
     "output_type": "execute_result"
    }
   ],
   "source": [
    "x = np.array([\n",
    "    [1, 2, 3],\n",
    "    [4, 5, 6],\n",
    "    [7, 8, 9]\n",
    "])\n",
    "np.pad(x, (1, 1), mode='wrap')"
   ]
  },
  {
   "cell_type": "markdown",
   "metadata": {},
   "source": [
    "Notice now how the first column/row and the last column/row are mirrors of the opposite side. For example, cell `[1][1]` is replicated on the far side in cell `[4][1]`, and likewise `[0][1]` contains `[3][1]`. In every direction, and in the corners, the array has been wrapped to contain its opposite side, just like we want.\n",
    "\n",
    "Now we can write a function to pad all our input matrices:"
   ]
  },
  {
   "cell_type": "code",
   "execution_count": 20,
   "metadata": {},
   "outputs": [
    {
     "name": "stdout",
     "output_type": "stream",
     "text": [
      "(70000, 22, 22, 1)\n",
      "(10000, 22, 22, 1)\n",
      "(20000, 22, 22, 1)\n"
     ]
    }
   ],
   "source": [
    "def pad_input(X):\n",
    "    return reshape_input(np.array([\n",
    "        np.pad(x.reshape(board_shape), (1,1), mode='wrap')\n",
    "        for x in X\n",
    "    ]))\n",
    "\n",
    "X_train_padded = pad_input(X_train)\n",
    "X_val_padded = pad_input(X_val)\n",
    "X_test_padded = pad_input(X_test)\n",
    "\n",
    "print(X_train_padded.shape)\n",
    "print(X_val_padded.shape)\n",
    "print(X_test_padded.shape)"
   ]
  },
  {
   "cell_type": "markdown",
   "metadata": {},
   "source": [
    "All the datasets are now padded with their wrapped columns/rows, allowing the CNN to look around the opposite side of the game board just like `life_step` does.\n",
    "\n",
    "Next, the CNN must be reconstructed to drop the padding values using `padding='valid'`, and updated to represent the new `input_shape`. This way when we pass in the padded *22x22* game boards we still get predicted 20x20 game boards as output. The rest remains identical:"
   ]
  },
  {
   "cell_type": "code",
   "execution_count": 21,
   "metadata": {},
   "outputs": [
    {
     "name": "stdout",
     "output_type": "stream",
     "text": [
      "_________________________________________________________________\n",
      "Layer (type)                 Output Shape              Param #   \n",
      "=================================================================\n",
      "conv2d_2 (Conv2D)            (None, 20, 20, 50)        500       \n",
      "_________________________________________________________________\n",
      "dense_3 (Dense)              (None, 20, 20, 100)       5100      \n",
      "_________________________________________________________________\n",
      "dense_4 (Dense)              (None, 20, 20, 1)         101       \n",
      "_________________________________________________________________\n",
      "activation_2 (Activation)    (None, 20, 20, 1)         0         \n",
      "=================================================================\n",
      "Total params: 5,701\n",
      "Trainable params: 5,701\n",
      "Non-trainable params: 0\n",
      "_________________________________________________________________\n"
     ]
    }
   ],
   "source": [
    "model_padded = Sequential()\n",
    "model_padded.add(Conv2D(\n",
    "    filters, \n",
    "    kernel_size,\n",
    "    padding='valid',\n",
    "    activation='relu',\n",
    "    strides=strides,\n",
    "    input_shape=(board_shape[0] + 2, board_shape[1] + 2, 1)\n",
    "))\n",
    "model_padded.add(Dense(hidden_dims_l1))\n",
    "model_padded.add(Dense(1))\n",
    "model_padded.add(Activation('sigmoid'))\n",
    "\n",
    "model_padded.compile(loss='binary_crossentropy', optimizer='adam', metrics=['accuracy'])\n",
    "model_padded.summary()"
   ]
  },
  {
   "cell_type": "code",
   "execution_count": 22,
   "metadata": {},
   "outputs": [
    {
     "name": "stdout",
     "output_type": "stream",
     "text": [
      "Train on 70000 samples, validate on 10000 samples\n",
      "Epoch 1/2\n",
      "70000/70000 [==============================] - 29s 414us/step - loss: 0.0587 - acc: 0.9811 - val_loss: 6.1468e-04 - val_acc: 1.0000\n",
      "Epoch 2/2\n",
      "70000/70000 [==============================] - 28s 401us/step - loss: 2.3131e-04 - acc: 1.0000 - val_loss: 8.0277e-05 - val_acc: 1.0000\n"
     ]
    }
   ],
   "source": [
    "train(model_padded, X_train_padded, y_train, X_val_padded, y_val, filename_suffix='_padded')"
   ]
  },
  {
   "cell_type": "markdown",
   "metadata": {},
   "source": [
    "Validation and training acuracy are up to 100% from ~98% before adding the padding. Let's see the test error:"
   ]
  },
  {
   "cell_type": "code",
   "execution_count": 23,
   "metadata": {},
   "outputs": [
    {
     "data": {
      "image/png": "[encoded data removed]",
      "text/plain": [
       "<Figure size 432x288 with 1 Axes>"
      ]
     },
     "metadata": {
      "needs_background": "light"
     },
     "output_type": "display_data"
    }
   ],
   "source": [
    "view_test_errors(model_padded, X_test_padded, y_test)"
   ]
  },
  {
   "cell_type": "markdown",
   "metadata": {},
   "source": [
    "Perfect!"
   ]
  },
  {
   "cell_type": "code",
   "execution_count": null,
   "metadata": {},
   "outputs": [],
   "source": []
  }
 ],
 "metadata": {
  "kernelspec": {
   "display_name": "Python 3",
   "language": "python",
   "name": "python3"
  },
  "language_info": {
   "codemirror_mode": {
    "name": "ipython",
    "version": 3
   },
   "file_extension": ".py",
   "mimetype": "text/x-python",
   "name": "python",
   "nbconvert_exporter": "python",
   "pygments_lexer": "ipython3",
   "version": "3.6.5"
  }
 },
 "nbformat": 4,
 "nbformat_minor": 2
}
